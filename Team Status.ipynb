{
 "cells": [
  {
   "cell_type": "code",
   "execution_count": 1,
   "id": "ddef9588",
   "metadata": {},
   "outputs": [],
   "source": [
    "import pandas as pd\n",
    "import matplotlib.pyplot as plt"
   ]
  },
  {
   "cell_type": "code",
   "execution_count": 2,
   "id": "49ec3d7b",
   "metadata": {
    "scrolled": true
   },
   "outputs": [
    {
     "data": {
      "text/html": [
       "<div>\n",
       "<style scoped>\n",
       "    .dataframe tbody tr th:only-of-type {\n",
       "        vertical-align: middle;\n",
       "    }\n",
       "\n",
       "    .dataframe tbody tr th {\n",
       "        vertical-align: top;\n",
       "    }\n",
       "\n",
       "    .dataframe thead th {\n",
       "        text-align: right;\n",
       "    }\n",
       "</style>\n",
       "<table border=\"1\" class=\"dataframe\">\n",
       "  <thead>\n",
       "    <tr style=\"text-align: right;\">\n",
       "      <th></th>\n",
       "      <th>Div</th>\n",
       "      <th>Date</th>\n",
       "      <th>HomeTeam</th>\n",
       "      <th>AwayTeam</th>\n",
       "      <th>FTHG</th>\n",
       "      <th>FTAG</th>\n",
       "      <th>FTR</th>\n",
       "      <th>HTHG</th>\n",
       "      <th>HTAG</th>\n",
       "      <th>HTR</th>\n",
       "      <th>Season</th>\n",
       "    </tr>\n",
       "  </thead>\n",
       "  <tbody>\n",
       "    <tr>\n",
       "      <th>0</th>\n",
       "      <td>E0</td>\n",
       "      <td>14/08/93</td>\n",
       "      <td>Arsenal</td>\n",
       "      <td>Coventry</td>\n",
       "      <td>0</td>\n",
       "      <td>3</td>\n",
       "      <td>A</td>\n",
       "      <td>NaN</td>\n",
       "      <td>NaN</td>\n",
       "      <td>NaN</td>\n",
       "      <td>1993-94</td>\n",
       "    </tr>\n",
       "    <tr>\n",
       "      <th>1</th>\n",
       "      <td>E0</td>\n",
       "      <td>14/08/93</td>\n",
       "      <td>Aston Villa</td>\n",
       "      <td>QPR</td>\n",
       "      <td>4</td>\n",
       "      <td>1</td>\n",
       "      <td>H</td>\n",
       "      <td>NaN</td>\n",
       "      <td>NaN</td>\n",
       "      <td>NaN</td>\n",
       "      <td>1993-94</td>\n",
       "    </tr>\n",
       "    <tr>\n",
       "      <th>2</th>\n",
       "      <td>E0</td>\n",
       "      <td>14/08/93</td>\n",
       "      <td>Chelsea</td>\n",
       "      <td>Blackburn</td>\n",
       "      <td>1</td>\n",
       "      <td>2</td>\n",
       "      <td>A</td>\n",
       "      <td>NaN</td>\n",
       "      <td>NaN</td>\n",
       "      <td>NaN</td>\n",
       "      <td>1993-94</td>\n",
       "    </tr>\n",
       "    <tr>\n",
       "      <th>3</th>\n",
       "      <td>E0</td>\n",
       "      <td>14/08/93</td>\n",
       "      <td>Liverpool</td>\n",
       "      <td>Sheffield Weds</td>\n",
       "      <td>2</td>\n",
       "      <td>0</td>\n",
       "      <td>H</td>\n",
       "      <td>NaN</td>\n",
       "      <td>NaN</td>\n",
       "      <td>NaN</td>\n",
       "      <td>1993-94</td>\n",
       "    </tr>\n",
       "    <tr>\n",
       "      <th>4</th>\n",
       "      <td>E0</td>\n",
       "      <td>14/08/93</td>\n",
       "      <td>Man City</td>\n",
       "      <td>Leeds</td>\n",
       "      <td>1</td>\n",
       "      <td>1</td>\n",
       "      <td>D</td>\n",
       "      <td>NaN</td>\n",
       "      <td>NaN</td>\n",
       "      <td>NaN</td>\n",
       "      <td>1993-94</td>\n",
       "    </tr>\n",
       "  </tbody>\n",
       "</table>\n",
       "</div>"
      ],
      "text/plain": [
       "  Div      Date     HomeTeam        AwayTeam  FTHG  FTAG FTR  HTHG  HTAG  HTR  \\\n",
       "0  E0  14/08/93      Arsenal        Coventry     0     3   A   NaN   NaN  NaN   \n",
       "1  E0  14/08/93  Aston Villa             QPR     4     1   H   NaN   NaN  NaN   \n",
       "2  E0  14/08/93      Chelsea       Blackburn     1     2   A   NaN   NaN  NaN   \n",
       "3  E0  14/08/93    Liverpool  Sheffield Weds     2     0   H   NaN   NaN  NaN   \n",
       "4  E0  14/08/93     Man City           Leeds     1     1   D   NaN   NaN  NaN   \n",
       "\n",
       "    Season  \n",
       "0  1993-94  \n",
       "1  1993-94  \n",
       "2  1993-94  \n",
       "3  1993-94  \n",
       "4  1993-94  "
      ]
     },
     "execution_count": 2,
     "metadata": {},
     "output_type": "execute_result"
    }
   ],
   "source": [
    "dataset = pd.read_csv('./Football.csv')\n",
    "dataset.head()"
   ]
  },
  {
   "cell_type": "markdown",
   "id": "723c286d",
   "metadata": {},
   "source": [
    "## Columns description\n",
    "\n",
    "* FTHG: Full Time Home Team Goals\n",
    "* FTAG: Full Time Away Team Goals\n",
    "* FTR: Full Time Result\n",
    "* HTHG: Half Time Home Team Goals\n",
    "* HTAG: Half Time Away Team Goals\n",
    "* HTR: Half Time Result\n",
    "\n",
    "**Note:** Whenever we have a `Category` and `Numerical` values comparison all together we draw the `Bar chart`.\n",
    "\n",
    "## Task:\n",
    "* We have to make a bar-chart to see the win, draw and loss matches of **Man City** in year **2016**"
   ]
  },
  {
   "cell_type": "code",
   "execution_count": 3,
   "id": "aca458f8",
   "metadata": {},
   "outputs": [
    {
     "name": "stdout",
     "output_type": "stream",
     "text": [
      "<class 'pandas.core.frame.DataFrame'>\n",
      "RangeIndex: 9664 entries, 0 to 9663\n",
      "Data columns (total 11 columns):\n",
      " #   Column    Non-Null Count  Dtype  \n",
      "---  ------    --------------  -----  \n",
      " 0   Div       9664 non-null   object \n",
      " 1   Date      9664 non-null   object \n",
      " 2   HomeTeam  9664 non-null   object \n",
      " 3   AwayTeam  9664 non-null   object \n",
      " 4   FTHG      9664 non-null   int64  \n",
      " 5   FTAG      9664 non-null   int64  \n",
      " 6   FTR       9664 non-null   object \n",
      " 7   HTHG      8740 non-null   float64\n",
      " 8   HTAG      8740 non-null   float64\n",
      " 9   HTR       8740 non-null   object \n",
      " 10  Season    9664 non-null   object \n",
      "dtypes: float64(2), int64(2), object(7)\n",
      "memory usage: 830.6+ KB\n"
     ]
    }
   ],
   "source": [
    "dataset.info()"
   ]
  },
  {
   "cell_type": "code",
   "execution_count": 4,
   "id": "be122cb3",
   "metadata": {},
   "outputs": [
    {
     "data": {
      "text/plain": [
       "H    4461\n",
       "A    2657\n",
       "D    2546\n",
       "Name: FTR, dtype: int64"
      ]
     },
     "execution_count": 4,
     "metadata": {},
     "output_type": "execute_result"
    }
   ],
   "source": [
    "dataset.FTR.value_counts()"
   ]
  },
  {
   "cell_type": "code",
   "execution_count": 5,
   "id": "80178259",
   "metadata": {},
   "outputs": [],
   "source": [
    "man_2015 = dataset[dataset['HomeTeam'] == 'Man City']"
   ]
  },
  {
   "cell_type": "code",
   "execution_count": 6,
   "id": "4b7fc571",
   "metadata": {},
   "outputs": [
    {
     "name": "stdout",
     "output_type": "stream",
     "text": [
      "<class 'pandas.core.frame.DataFrame'>\n",
      "Int64Index: 384 entries, 4 to 9651\n",
      "Data columns (total 11 columns):\n",
      " #   Column    Non-Null Count  Dtype  \n",
      "---  ------    --------------  -----  \n",
      " 0   Div       384 non-null    object \n",
      " 1   Date      384 non-null    object \n",
      " 2   HomeTeam  384 non-null    object \n",
      " 3   AwayTeam  384 non-null    object \n",
      " 4   FTHG      384 non-null    int64  \n",
      " 5   FTAG      384 non-null    int64  \n",
      " 6   FTR       384 non-null    object \n",
      " 7   HTHG      342 non-null    float64\n",
      " 8   HTAG      342 non-null    float64\n",
      " 9   HTR       342 non-null    object \n",
      " 10  Season    384 non-null    object \n",
      "dtypes: float64(2), int64(2), object(7)\n",
      "memory usage: 36.0+ KB\n"
     ]
    }
   ],
   "source": [
    "man_2015.info()"
   ]
  },
  {
   "cell_type": "code",
   "execution_count": 7,
   "id": "25e7d65c",
   "metadata": {},
   "outputs": [
    {
     "name": "stdout",
     "output_type": "stream",
     "text": [
      "<class 'pandas.core.frame.DataFrame'>\n",
      "Int64Index: 384 entries, 4 to 9651\n",
      "Data columns (total 11 columns):\n",
      " #   Column    Non-Null Count  Dtype         \n",
      "---  ------    --------------  -----         \n",
      " 0   Div       384 non-null    object        \n",
      " 1   Date      384 non-null    datetime64[ns]\n",
      " 2   HomeTeam  384 non-null    object        \n",
      " 3   AwayTeam  384 non-null    object        \n",
      " 4   FTHG      384 non-null    int64         \n",
      " 5   FTAG      384 non-null    int64         \n",
      " 6   FTR       384 non-null    object        \n",
      " 7   HTHG      342 non-null    float64       \n",
      " 8   HTAG      342 non-null    float64       \n",
      " 9   HTR       342 non-null    object        \n",
      " 10  Season    384 non-null    object        \n",
      "dtypes: datetime64[ns](1), float64(2), int64(2), object(6)\n",
      "memory usage: 36.0+ KB\n"
     ]
    },
    {
     "name": "stderr",
     "output_type": "stream",
     "text": [
      "C:\\Users\\Lenovo\\AppData\\Local\\Temp\\ipykernel_7692\\2604867129.py:1: UserWarning: Parsing '24/08/2002' in DD/MM/YYYY format. Provide format or specify infer_datetime_format=True for consistent parsing.\n",
      "  man_2015['Date'] = pd.to_datetime(man_2015['Date'])\n",
      "C:\\Users\\Lenovo\\AppData\\Local\\Temp\\ipykernel_7692\\2604867129.py:1: UserWarning: Parsing '31/08/2002' in DD/MM/YYYY format. Provide format or specify infer_datetime_format=True for consistent parsing.\n",
      "  man_2015['Date'] = pd.to_datetime(man_2015['Date'])\n",
      "C:\\Users\\Lenovo\\AppData\\Local\\Temp\\ipykernel_7692\\2604867129.py:1: UserWarning: Parsing '15/09/2002' in DD/MM/YYYY format. Provide format or specify infer_datetime_format=True for consistent parsing.\n",
      "  man_2015['Date'] = pd.to_datetime(man_2015['Date'])\n",
      "C:\\Users\\Lenovo\\AppData\\Local\\Temp\\ipykernel_7692\\2604867129.py:1: UserWarning: Parsing '28/09/2002' in DD/MM/YYYY format. Provide format or specify infer_datetime_format=True for consistent parsing.\n",
      "  man_2015['Date'] = pd.to_datetime(man_2015['Date'])\n",
      "C:\\Users\\Lenovo\\AppData\\Local\\Temp\\ipykernel_7692\\2604867129.py:1: UserWarning: Parsing '19/10/2002' in DD/MM/YYYY format. Provide format or specify infer_datetime_format=True for consistent parsing.\n",
      "  man_2015['Date'] = pd.to_datetime(man_2015['Date'])\n",
      "C:\\Users\\Lenovo\\AppData\\Local\\Temp\\ipykernel_7692\\2604867129.py:1: UserWarning: Parsing '16/11/2002' in DD/MM/YYYY format. Provide format or specify infer_datetime_format=True for consistent parsing.\n",
      "  man_2015['Date'] = pd.to_datetime(man_2015['Date'])\n",
      "C:\\Users\\Lenovo\\AppData\\Local\\Temp\\ipykernel_7692\\2604867129.py:1: UserWarning: Parsing '30/11/2002' in DD/MM/YYYY format. Provide format or specify infer_datetime_format=True for consistent parsing.\n",
      "  man_2015['Date'] = pd.to_datetime(man_2015['Date'])\n",
      "C:\\Users\\Lenovo\\AppData\\Local\\Temp\\ipykernel_7692\\2604867129.py:1: UserWarning: Parsing '23/12/2002' in DD/MM/YYYY format. Provide format or specify infer_datetime_format=True for consistent parsing.\n",
      "  man_2015['Date'] = pd.to_datetime(man_2015['Date'])\n",
      "C:\\Users\\Lenovo\\AppData\\Local\\Temp\\ipykernel_7692\\2604867129.py:1: UserWarning: Parsing '26/12/2002' in DD/MM/YYYY format. Provide format or specify infer_datetime_format=True for consistent parsing.\n",
      "  man_2015['Date'] = pd.to_datetime(man_2015['Date'])\n",
      "C:\\Users\\Lenovo\\AppData\\Local\\Temp\\ipykernel_7692\\2604867129.py:1: UserWarning: Parsing '29/01/2003' in DD/MM/YYYY format. Provide format or specify infer_datetime_format=True for consistent parsing.\n",
      "  man_2015['Date'] = pd.to_datetime(man_2015['Date'])\n",
      "C:\\Users\\Lenovo\\AppData\\Local\\Temp\\ipykernel_7692\\2604867129.py:1: UserWarning: Parsing '22/02/2003' in DD/MM/YYYY format. Provide format or specify infer_datetime_format=True for consistent parsing.\n",
      "  man_2015['Date'] = pd.to_datetime(man_2015['Date'])\n",
      "C:\\Users\\Lenovo\\AppData\\Local\\Temp\\ipykernel_7692\\2604867129.py:1: UserWarning: Parsing '16/03/2003' in DD/MM/YYYY format. Provide format or specify infer_datetime_format=True for consistent parsing.\n",
      "  man_2015['Date'] = pd.to_datetime(man_2015['Date'])\n",
      "C:\\Users\\Lenovo\\AppData\\Local\\Temp\\ipykernel_7692\\2604867129.py:1: UserWarning: Parsing '21/04/2003' in DD/MM/YYYY format. Provide format or specify infer_datetime_format=True for consistent parsing.\n",
      "  man_2015['Date'] = pd.to_datetime(man_2015['Date'])\n",
      "C:\\Users\\Lenovo\\AppData\\Local\\Temp\\ipykernel_7692\\2604867129.py:1: UserWarning: Parsing '27/04/2003' in DD/MM/YYYY format. Provide format or specify infer_datetime_format=True for consistent parsing.\n",
      "  man_2015['Date'] = pd.to_datetime(man_2015['Date'])\n",
      "C:\\Users\\Lenovo\\AppData\\Local\\Temp\\ipykernel_7692\\2604867129.py:1: SettingWithCopyWarning: \n",
      "A value is trying to be set on a copy of a slice from a DataFrame.\n",
      "Try using .loc[row_indexer,col_indexer] = value instead\n",
      "\n",
      "See the caveats in the documentation: https://pandas.pydata.org/pandas-docs/stable/user_guide/indexing.html#returning-a-view-versus-a-copy\n",
      "  man_2015['Date'] = pd.to_datetime(man_2015['Date'])\n"
     ]
    }
   ],
   "source": [
    "man_2015['Date'] = pd.to_datetime(man_2015['Date'])\n",
    "man_2015.info()"
   ]
  },
  {
   "cell_type": "code",
   "execution_count": 8,
   "id": "ec3a1268",
   "metadata": {},
   "outputs": [
    {
     "data": {
      "text/html": [
       "<div>\n",
       "<style scoped>\n",
       "    .dataframe tbody tr th:only-of-type {\n",
       "        vertical-align: middle;\n",
       "    }\n",
       "\n",
       "    .dataframe tbody tr th {\n",
       "        vertical-align: top;\n",
       "    }\n",
       "\n",
       "    .dataframe thead th {\n",
       "        text-align: right;\n",
       "    }\n",
       "</style>\n",
       "<table border=\"1\" class=\"dataframe\">\n",
       "  <thead>\n",
       "    <tr style=\"text-align: right;\">\n",
       "      <th></th>\n",
       "      <th>Div</th>\n",
       "      <th>Date</th>\n",
       "      <th>HomeTeam</th>\n",
       "      <th>AwayTeam</th>\n",
       "      <th>FTHG</th>\n",
       "      <th>FTAG</th>\n",
       "      <th>FTR</th>\n",
       "      <th>HTHG</th>\n",
       "      <th>HTAG</th>\n",
       "      <th>HTR</th>\n",
       "      <th>Season</th>\n",
       "    </tr>\n",
       "  </thead>\n",
       "  <tbody>\n",
       "    <tr>\n",
       "      <th>4</th>\n",
       "      <td>E0</td>\n",
       "      <td>1993-08-14</td>\n",
       "      <td>Man City</td>\n",
       "      <td>Leeds</td>\n",
       "      <td>1</td>\n",
       "      <td>1</td>\n",
       "      <td>D</td>\n",
       "      <td>NaN</td>\n",
       "      <td>NaN</td>\n",
       "      <td>NaN</td>\n",
       "      <td>1993-94</td>\n",
       "    </tr>\n",
       "    <tr>\n",
       "      <th>35</th>\n",
       "      <td>E0</td>\n",
       "      <td>1993-08-24</td>\n",
       "      <td>Man City</td>\n",
       "      <td>Blackburn</td>\n",
       "      <td>0</td>\n",
       "      <td>2</td>\n",
       "      <td>A</td>\n",
       "      <td>NaN</td>\n",
       "      <td>NaN</td>\n",
       "      <td>NaN</td>\n",
       "      <td>1993-94</td>\n",
       "    </tr>\n",
       "    <tr>\n",
       "      <th>44</th>\n",
       "      <td>E0</td>\n",
       "      <td>1993-08-27</td>\n",
       "      <td>Man City</td>\n",
       "      <td>Coventry</td>\n",
       "      <td>1</td>\n",
       "      <td>1</td>\n",
       "      <td>D</td>\n",
       "      <td>NaN</td>\n",
       "      <td>NaN</td>\n",
       "      <td>NaN</td>\n",
       "      <td>1993-94</td>\n",
       "    </tr>\n",
       "    <tr>\n",
       "      <th>69</th>\n",
       "      <td>E0</td>\n",
       "      <td>1993-11-09</td>\n",
       "      <td>Man City</td>\n",
       "      <td>QPR</td>\n",
       "      <td>3</td>\n",
       "      <td>0</td>\n",
       "      <td>H</td>\n",
       "      <td>NaN</td>\n",
       "      <td>NaN</td>\n",
       "      <td>NaN</td>\n",
       "      <td>1993-94</td>\n",
       "    </tr>\n",
       "    <tr>\n",
       "      <th>109</th>\n",
       "      <td>E0</td>\n",
       "      <td>1993-04-10</td>\n",
       "      <td>Man City</td>\n",
       "      <td>Oldham</td>\n",
       "      <td>1</td>\n",
       "      <td>1</td>\n",
       "      <td>D</td>\n",
       "      <td>NaN</td>\n",
       "      <td>NaN</td>\n",
       "      <td>NaN</td>\n",
       "      <td>1993-94</td>\n",
       "    </tr>\n",
       "  </tbody>\n",
       "</table>\n",
       "</div>"
      ],
      "text/plain": [
       "    Div       Date  HomeTeam   AwayTeam  FTHG  FTAG FTR  HTHG  HTAG  HTR  \\\n",
       "4    E0 1993-08-14  Man City      Leeds     1     1   D   NaN   NaN  NaN   \n",
       "35   E0 1993-08-24  Man City  Blackburn     0     2   A   NaN   NaN  NaN   \n",
       "44   E0 1993-08-27  Man City   Coventry     1     1   D   NaN   NaN  NaN   \n",
       "69   E0 1993-11-09  Man City        QPR     3     0   H   NaN   NaN  NaN   \n",
       "109  E0 1993-04-10  Man City     Oldham     1     1   D   NaN   NaN  NaN   \n",
       "\n",
       "      Season  \n",
       "4    1993-94  \n",
       "35   1993-94  \n",
       "44   1993-94  \n",
       "69   1993-94  \n",
       "109  1993-94  "
      ]
     },
     "execution_count": 8,
     "metadata": {},
     "output_type": "execute_result"
    }
   ],
   "source": [
    "man_2015.head()"
   ]
  },
  {
   "cell_type": "code",
   "execution_count": 9,
   "id": "7ea756df",
   "metadata": {
    "scrolled": false
   },
   "outputs": [
    {
     "data": {
      "text/html": [
       "<div>\n",
       "<style scoped>\n",
       "    .dataframe tbody tr th:only-of-type {\n",
       "        vertical-align: middle;\n",
       "    }\n",
       "\n",
       "    .dataframe tbody tr th {\n",
       "        vertical-align: top;\n",
       "    }\n",
       "\n",
       "    .dataframe thead th {\n",
       "        text-align: right;\n",
       "    }\n",
       "</style>\n",
       "<table border=\"1\" class=\"dataframe\">\n",
       "  <thead>\n",
       "    <tr style=\"text-align: right;\">\n",
       "      <th></th>\n",
       "      <th>Date</th>\n",
       "      <th>HomeTeam</th>\n",
       "      <th>FTR</th>\n",
       "    </tr>\n",
       "  </thead>\n",
       "  <tbody>\n",
       "    <tr>\n",
       "      <th>4</th>\n",
       "      <td>1993-08-14</td>\n",
       "      <td>Man City</td>\n",
       "      <td>D</td>\n",
       "    </tr>\n",
       "    <tr>\n",
       "      <th>35</th>\n",
       "      <td>1993-08-24</td>\n",
       "      <td>Man City</td>\n",
       "      <td>A</td>\n",
       "    </tr>\n",
       "    <tr>\n",
       "      <th>44</th>\n",
       "      <td>1993-08-27</td>\n",
       "      <td>Man City</td>\n",
       "      <td>D</td>\n",
       "    </tr>\n",
       "    <tr>\n",
       "      <th>69</th>\n",
       "      <td>1993-11-09</td>\n",
       "      <td>Man City</td>\n",
       "      <td>H</td>\n",
       "    </tr>\n",
       "    <tr>\n",
       "      <th>109</th>\n",
       "      <td>1993-04-10</td>\n",
       "      <td>Man City</td>\n",
       "      <td>D</td>\n",
       "    </tr>\n",
       "    <tr>\n",
       "      <th>...</th>\n",
       "      <td>...</td>\n",
       "      <td>...</td>\n",
       "      <td>...</td>\n",
       "    </tr>\n",
       "    <tr>\n",
       "      <th>9572</th>\n",
       "      <td>2018-04-03</td>\n",
       "      <td>Man City</td>\n",
       "      <td>H</td>\n",
       "    </tr>\n",
       "    <tr>\n",
       "      <th>9602</th>\n",
       "      <td>2018-07-04</td>\n",
       "      <td>Man City</td>\n",
       "      <td>A</td>\n",
       "    </tr>\n",
       "    <tr>\n",
       "      <th>9625</th>\n",
       "      <td>2018-04-22</td>\n",
       "      <td>Man City</td>\n",
       "      <td>H</td>\n",
       "    </tr>\n",
       "    <tr>\n",
       "      <th>9647</th>\n",
       "      <td>2018-06-05</td>\n",
       "      <td>Man City</td>\n",
       "      <td>D</td>\n",
       "    </tr>\n",
       "    <tr>\n",
       "      <th>9651</th>\n",
       "      <td>2018-09-05</td>\n",
       "      <td>Man City</td>\n",
       "      <td>H</td>\n",
       "    </tr>\n",
       "  </tbody>\n",
       "</table>\n",
       "<p>384 rows × 3 columns</p>\n",
       "</div>"
      ],
      "text/plain": [
       "           Date  HomeTeam FTR\n",
       "4    1993-08-14  Man City   D\n",
       "35   1993-08-24  Man City   A\n",
       "44   1993-08-27  Man City   D\n",
       "69   1993-11-09  Man City   H\n",
       "109  1993-04-10  Man City   D\n",
       "...         ...       ...  ..\n",
       "9572 2018-04-03  Man City   H\n",
       "9602 2018-07-04  Man City   A\n",
       "9625 2018-04-22  Man City   H\n",
       "9647 2018-06-05  Man City   D\n",
       "9651 2018-09-05  Man City   H\n",
       "\n",
       "[384 rows x 3 columns]"
      ]
     },
     "execution_count": 9,
     "metadata": {},
     "output_type": "execute_result"
    }
   ],
   "source": [
    "man_2015 = man_2015[['Date', 'HomeTeam', 'FTR']]\n",
    "man_2015"
   ]
  },
  {
   "cell_type": "code",
   "execution_count": 10,
   "id": "d8dfdd1c",
   "metadata": {},
   "outputs": [
    {
     "data": {
      "text/html": [
       "<div>\n",
       "<style scoped>\n",
       "    .dataframe tbody tr th:only-of-type {\n",
       "        vertical-align: middle;\n",
       "    }\n",
       "\n",
       "    .dataframe tbody tr th {\n",
       "        vertical-align: top;\n",
       "    }\n",
       "\n",
       "    .dataframe thead th {\n",
       "        text-align: right;\n",
       "    }\n",
       "</style>\n",
       "<table border=\"1\" class=\"dataframe\">\n",
       "  <thead>\n",
       "    <tr style=\"text-align: right;\">\n",
       "      <th></th>\n",
       "      <th>Date</th>\n",
       "      <th>HomeTeam</th>\n",
       "      <th>FTR</th>\n",
       "    </tr>\n",
       "  </thead>\n",
       "  <tbody>\n",
       "    <tr>\n",
       "      <th>8729</th>\n",
       "      <td>2016-01-13</td>\n",
       "      <td>Man City</td>\n",
       "      <td>D</td>\n",
       "    </tr>\n",
       "    <tr>\n",
       "      <th>8737</th>\n",
       "      <td>2016-01-16</td>\n",
       "      <td>Man City</td>\n",
       "      <td>H</td>\n",
       "    </tr>\n",
       "    <tr>\n",
       "      <th>8766</th>\n",
       "      <td>2016-06-02</td>\n",
       "      <td>Man City</td>\n",
       "      <td>A</td>\n",
       "    </tr>\n",
       "    <tr>\n",
       "      <th>8783</th>\n",
       "      <td>2016-02-14</td>\n",
       "      <td>Man City</td>\n",
       "      <td>A</td>\n",
       "    </tr>\n",
       "    <tr>\n",
       "      <th>8804</th>\n",
       "      <td>2016-05-03</td>\n",
       "      <td>Man City</td>\n",
       "      <td>H</td>\n",
       "    </tr>\n",
       "    <tr>\n",
       "      <th>8823</th>\n",
       "      <td>2016-03-20</td>\n",
       "      <td>Man City</td>\n",
       "      <td>A</td>\n",
       "    </tr>\n",
       "    <tr>\n",
       "      <th>8839</th>\n",
       "      <td>2016-09-04</td>\n",
       "      <td>Man City</td>\n",
       "      <td>H</td>\n",
       "    </tr>\n",
       "    <tr>\n",
       "      <th>8866</th>\n",
       "      <td>2016-04-23</td>\n",
       "      <td>Man City</td>\n",
       "      <td>H</td>\n",
       "    </tr>\n",
       "    <tr>\n",
       "      <th>8888</th>\n",
       "      <td>2016-08-05</td>\n",
       "      <td>Man City</td>\n",
       "      <td>D</td>\n",
       "    </tr>\n",
       "    <tr>\n",
       "      <th>8908</th>\n",
       "      <td>2016-08-13</td>\n",
       "      <td>Man City</td>\n",
       "      <td>H</td>\n",
       "    </tr>\n",
       "    <tr>\n",
       "      <th>8932</th>\n",
       "      <td>2016-08-28</td>\n",
       "      <td>Man City</td>\n",
       "      <td>H</td>\n",
       "    </tr>\n",
       "    <tr>\n",
       "      <th>8948</th>\n",
       "      <td>2016-09-17</td>\n",
       "      <td>Man City</td>\n",
       "      <td>H</td>\n",
       "    </tr>\n",
       "    <tr>\n",
       "      <th>8978</th>\n",
       "      <td>2016-10-15</td>\n",
       "      <td>Man City</td>\n",
       "      <td>D</td>\n",
       "    </tr>\n",
       "    <tr>\n",
       "      <th>8993</th>\n",
       "      <td>2016-10-23</td>\n",
       "      <td>Man City</td>\n",
       "      <td>D</td>\n",
       "    </tr>\n",
       "    <tr>\n",
       "      <th>9007</th>\n",
       "      <td>2016-05-11</td>\n",
       "      <td>Man City</td>\n",
       "      <td>D</td>\n",
       "    </tr>\n",
       "    <tr>\n",
       "      <th>9035</th>\n",
       "      <td>2016-03-12</td>\n",
       "      <td>Man City</td>\n",
       "      <td>A</td>\n",
       "    </tr>\n",
       "    <tr>\n",
       "      <th>9057</th>\n",
       "      <td>2016-12-14</td>\n",
       "      <td>Man City</td>\n",
       "      <td>H</td>\n",
       "    </tr>\n",
       "    <tr>\n",
       "      <th>9071</th>\n",
       "      <td>2016-12-18</td>\n",
       "      <td>Man City</td>\n",
       "      <td>H</td>\n",
       "    </tr>\n",
       "  </tbody>\n",
       "</table>\n",
       "</div>"
      ],
      "text/plain": [
       "           Date  HomeTeam FTR\n",
       "8729 2016-01-13  Man City   D\n",
       "8737 2016-01-16  Man City   H\n",
       "8766 2016-06-02  Man City   A\n",
       "8783 2016-02-14  Man City   A\n",
       "8804 2016-05-03  Man City   H\n",
       "8823 2016-03-20  Man City   A\n",
       "8839 2016-09-04  Man City   H\n",
       "8866 2016-04-23  Man City   H\n",
       "8888 2016-08-05  Man City   D\n",
       "8908 2016-08-13  Man City   H\n",
       "8932 2016-08-28  Man City   H\n",
       "8948 2016-09-17  Man City   H\n",
       "8978 2016-10-15  Man City   D\n",
       "8993 2016-10-23  Man City   D\n",
       "9007 2016-05-11  Man City   D\n",
       "9035 2016-03-12  Man City   A\n",
       "9057 2016-12-14  Man City   H\n",
       "9071 2016-12-18  Man City   H"
      ]
     },
     "execution_count": 10,
     "metadata": {},
     "output_type": "execute_result"
    }
   ],
   "source": [
    "man_2015 = man_2015.copy()[(man_2015['Date'].dt.year > 2015) & (man_2015['Date'].dt.year < 2017)]\n",
    "man_2015"
   ]
  },
  {
   "cell_type": "code",
   "execution_count": 11,
   "id": "b161a83c",
   "metadata": {},
   "outputs": [
    {
     "data": {
      "text/plain": [
       "H    9\n",
       "D    5\n",
       "A    4\n",
       "Name: FTR, dtype: int64"
      ]
     },
     "execution_count": 11,
     "metadata": {},
     "output_type": "execute_result"
    }
   ],
   "source": [
    "man_2015.FTR.value_counts()"
   ]
  },
  {
   "cell_type": "code",
   "execution_count": 12,
   "id": "986d90e8",
   "metadata": {},
   "outputs": [],
   "source": [
    "ftr_2015 = man_2015.FTR\n",
    "man_2015 = man_2015.FTR.value_counts()"
   ]
  },
  {
   "cell_type": "code",
   "execution_count": 13,
   "id": "cb90659e",
   "metadata": {
    "scrolled": false
   },
   "outputs": [
    {
     "data": {
      "image/png": "[encoded data removed]",
      "text/plain": [
       "<Figure size 640x480 with 1 Axes>"
      ]
     },
     "metadata": {},
     "output_type": "display_data"
    }
   ],
   "source": [
    "plt.bar(man_2015.index, man_2015.values)\n",
    "plt.show()"
   ]
  },
  {
   "cell_type": "code",
   "execution_count": 14,
   "id": "20e97ae0",
   "metadata": {},
   "outputs": [
    {
     "name": "stdout",
     "output_type": "stream",
     "text": [
      "Index(['H', 'D', 'A'], dtype='object')\n",
      "[9 5 4]\n"
     ]
    }
   ],
   "source": [
    "print(man_2015.index)\n",
    "print(man_2015.values)"
   ]
  },
  {
   "cell_type": "code",
   "execution_count": 15,
   "id": "5a0fe4c8",
   "metadata": {},
   "outputs": [
    {
     "data": {
      "text/plain": [
       "9"
      ]
     },
     "execution_count": 15,
     "metadata": {},
     "output_type": "execute_result"
    }
   ],
   "source": [
    "max(man_2015.values)"
   ]
  },
  {
   "cell_type": "code",
   "execution_count": 16,
   "id": "0bb6910f",
   "metadata": {},
   "outputs": [
    {
     "data": {
      "image/png": "[encoded data removed]",
      "text/plain": [
       "<Figure size 640x480 with 1 Axes>"
      ]
     },
     "metadata": {},
     "output_type": "display_data"
    }
   ],
   "source": [
    "# print(man_2015['H'])\n",
    "\n",
    "\n",
    "br1 = man_2015['H']\n",
    "br2 = man_2015['D']\n",
    "br3 = man_2015['A']\n",
    "\n",
    "plt.bar('H', br1, color ='green', edgecolor ='grey')\n",
    "plt.bar('D', br2, color ='grey', edgecolor ='grey')\n",
    "plt.bar('A', br3, color ='r', edgecolor ='grey')\n",
    "\n",
    "plt.show()"
   ]
  },
  {
   "cell_type": "markdown",
   "id": "2cd0420a",
   "metadata": {},
   "source": [
    "# Streak bar\n",
    "* Total bar length is 90% of the total width of graph.\n",
    "* 5% left of 100% from left and right side of graph.\n",
    "* There are total 18 matches, so we have to divide 90 by 18."
   ]
  },
  {
   "cell_type": "code",
   "execution_count": 17,
   "id": "7d37bdba",
   "metadata": {
    "scrolled": false
   },
   "outputs": [
    {
     "data": {
      "image/png": "[encoded data removed]",
      "text/plain": [
       "<Figure size 640x480 with 1 Axes>"
      ]
     },
     "metadata": {},
     "output_type": "display_data"
    }
   ],
   "source": [
    "# print(man_2015['H'])\n",
    "\n",
    "\n",
    "br1 = man_2015['H']\n",
    "br2 = man_2015['D']\n",
    "br3 = man_2015['A']\n",
    "\n",
    "plt.bar('H', br1, color ='green', edgecolor ='grey')\n",
    "plt.bar('D', br2, color ='grey', edgecolor ='grey')\n",
    "plt.bar('A', br3, color ='red', edgecolor ='grey')\n",
    "\n",
    "\n",
    "plt.axhline(10, xmin = 0.05, xmax = 0.95, color = \"grey\", alpha = 0.3, linewidth = 5)\n",
    "plt.axhline(10, xmin = 0.05, xmax = 0.10, color = \"green\", linewidth = 5)\n",
    "\n",
    "plt.show()"
   ]
  },
  {
   "cell_type": "code",
   "execution_count": 18,
   "id": "a48a3c32",
   "metadata": {},
   "outputs": [
    {
     "data": {
      "text/plain": [
       "8729    D\n",
       "8737    H\n",
       "8766    A\n",
       "8783    A\n",
       "8804    H\n",
       "8823    A\n",
       "8839    H\n",
       "8866    H\n",
       "8888    D\n",
       "8908    H\n",
       "8932    H\n",
       "8948    H\n",
       "8978    D\n",
       "8993    D\n",
       "9007    D\n",
       "9035    A\n",
       "9057    H\n",
       "9071    H\n",
       "Name: FTR, dtype: object"
      ]
     },
     "execution_count": 18,
     "metadata": {},
     "output_type": "execute_result"
    }
   ],
   "source": [
    "ftr_2015"
   ]
  },
  {
   "cell_type": "code",
   "execution_count": 19,
   "id": "cb0ed86a",
   "metadata": {},
   "outputs": [
    {
     "data": {
      "image/png": "[encoded data removed]",
      "text/plain": [
       "<Figure size 640x480 with 1 Axes>"
      ]
     },
     "metadata": {},
     "output_type": "display_data"
    }
   ],
   "source": [
    "# Bar chart\n",
    "br1 = man_2015['H']\n",
    "br2 = man_2015['D']\n",
    "br3 = man_2015['A']\n",
    "plt.bar('H', br1, color ='#c7ea46', edgecolor ='grey')\n",
    "plt.bar('D', br2, color ='#e4e6eb', edgecolor ='grey')\n",
    "plt.bar('A', br3, color ='#ff0000', edgecolor ='grey')\n",
    "\n",
    "\n",
    "# xticks\n",
    "plt.xticks([])\n",
    "plt.text(-0.12, -0.7, 'Win')\n",
    "plt.text(0.87, -0.7, 'Draw')\n",
    "plt.text(1.93, -0.7, 'Loss')\n",
    "\n",
    "# Streak Bar\n",
    "plt.axhline(10, xmin = 0.05, xmax = 0.95, color = \"grey\", alpha = 0.3, linewidth = 5)\n",
    "current_xmin = 0.05\n",
    "for i in ftr_2015:\n",
    "    if i == 'H':\n",
    "        plt.axhline(10, xmin = current_xmin, xmax = current_xmin + 0.05, color = \"#c7ea46\", linewidth = 5)\n",
    "    elif i == 'D':\n",
    "        plt.axhline(10, xmin = current_xmin, xmax = current_xmin + 0.05, color = \"#e4e6eb\", linewidth = 5)\n",
    "    else:\n",
    "        plt.axhline(10, xmin = current_xmin, xmax = current_xmin + 0.05, color = \"#ff0000\", linewidth = 5)\n",
    "    current_xmin += 0.05\n",
    "\n",
    "\n",
    "plt.show()\n",
    "\n"
   ]
  },
  {
   "cell_type": "code",
   "execution_count": 20,
   "id": "299e1c26",
   "metadata": {
    "scrolled": false
   },
   "outputs": [
    {
     "data": {
      "image/png": "[encoded data removed]",
      "text/plain": [
       "<Figure size 640x480 with 1 Axes>"
      ]
     },
     "metadata": {},
     "output_type": "display_data"
    }
   ],
   "source": [
    "# Bar chart\n",
    "br1 = man_2015['H']\n",
    "br2 = man_2015['D']\n",
    "br3 = man_2015['A']\n",
    "plt.bar('H', br1, color ='#c7ea46', edgecolor ='grey')\n",
    "plt.bar('D', br2, color ='#e4e6eb', edgecolor ='grey')\n",
    "plt.bar('A', br3, color ='#ff0000', edgecolor ='grey')\n",
    "\n",
    "\n",
    "# xticks\n",
    "plt.xticks([])\n",
    "plt.text(-0.12, -0.7, 'Win')\n",
    "plt.text(0.87, -0.7, 'Draw')\n",
    "plt.text(1.93, -0.7, 'Loss')\n",
    "\n",
    "# Win/Draw/Loss Counts\n",
    "plt.yticks([0, 2, 4, 6, 8, 10, 12])\n",
    "plt.text(-0.12, man_2015.H + 0.7, man_2015.H, size=14)\n",
    "plt.text(0.87, man_2015.D + 0.7, man_2015.D, size=14)\n",
    "plt.text(1.93, man_2015.A + 0.7, man_2015.A, size=14)\n",
    "\n",
    "# Streak Bar\n",
    "plt.axhline(11, xmin = 0.05, xmax = 0.95, color = \"grey\", alpha = 0.3, linewidth = 6)\n",
    "current_xmin = 0.05\n",
    "for i in ftr_2015:\n",
    "    if i == 'H':\n",
    "        plt.axhline(11, xmin = current_xmin, xmax = current_xmin + 0.05, color = \"#c7ea46\", linewidth = 6)\n",
    "    elif i == 'D':\n",
    "        plt.axhline(11, xmin = current_xmin, xmax = current_xmin + 0.05, color = \"#e4e6eb\", linewidth = 6)\n",
    "    else:\n",
    "        plt.axhline(11, xmin = current_xmin, xmax = current_xmin + 0.05, color = \"#ff0000\", linewidth = 6)\n",
    "    current_xmin += 0.05\n",
    "\n",
    "\n",
    "plt.show()\n",
    "\n"
   ]
  },
  {
   "cell_type": "markdown",
   "id": "3690a74e",
   "metadata": {},
   "source": [
    "# Generalized function to check Team status.\n",
    "In Generalization, we have to make a function which takes following arguments.\n",
    "* Team name\n",
    "* Starting year\n",
    "* Ending year"
   ]
  },
  {
   "cell_type": "code",
   "execution_count": 40,
   "id": "92681919",
   "metadata": {},
   "outputs": [],
   "source": [
    "def check_results(team_name, start_year, end_year = None):\n",
    "    \n",
    "    team = dataset[dataset['HomeTeam'] == team_name]\n",
    "    team['Date'] = pd.to_datetime(team['Date'])\n",
    "    \n",
    "    team = team[['Date', 'HomeTeam', 'FTR', 'Season']]\n",
    "    \n",
    "    if end_year == None:\n",
    "         team = team.copy()[(team['Date'].dt.year == start_year)]\n",
    "    else:\n",
    "        team = team.copy()[(team['Date'].dt.year >= start_year) & (team['Date'].dt.year <= end_year)]\n",
    "    \n",
    "    ftr = team.FTR\n",
    "    team = team.FTR.value_counts()\n",
    "    \n",
    "    win_matches = team['H']\n",
    "    draw_matches = team['D']\n",
    "    loss_matches = team['A']\n",
    "\n",
    "    plt.bar('H', win_matches, color ='#c7ea46', edgecolor ='grey')\n",
    "    plt.bar('D', draw_matches, color ='#e4e6eb', edgecolor ='grey')\n",
    "    plt.bar('A', loss_matches, color ='#ff0000', edgecolor ='grey')\n",
    "    \n",
    "    \n",
    "    # xticks\n",
    "    plt.xticks([])\n",
    "    plt.text(-0.12, -1, 'Win')\n",
    "    plt.text(0.87, -1, 'Draw')\n",
    "    plt.text(1.93, -1, 'Loss')\n",
    "\n",
    "    # Win / Draw / Loss Counts\n",
    "    plt.text(-0.12, team.H + 0.7, team.H, size=12)\n",
    "    plt.text(0.88, team.D + 0.7, team.D, size=12)\n",
    "    plt.text(1.93, team.A + 0.7, team.A, size=12)\n",
    "    \n",
    "    # Streak Bar\n",
    "    bar_height = max(team.values) + 3\n",
    "    plt.axhline(bar_height, xmin = 0.05, xmax = 0.95, color = \"grey\", alpha = 0.3, linewidth = 6)\n",
    "    \n",
    "    total_matches = len(ftr)\n",
    "    current_xmin = 0.05\n",
    "    equal_intervals = 0.90/total_matches\n",
    "    for i in ftr:\n",
    "        if i == 'H':\n",
    "            plt.axhline(bar_height, xmin = current_xmin, xmax = current_xmin + equal_intervals, color = \"#c7ea46\", linewidth = 6)\n",
    "        elif i == 'D':\n",
    "            plt.axhline(bar_height, xmin = current_xmin, xmax = current_xmin + equal_intervals, color = \"#e4e6eb\", linewidth = 6)\n",
    "        else:\n",
    "            plt.axhline(bar_height, xmin = current_xmin, xmax = current_xmin + equal_intervals, color = \"#ff0000\", linewidth = 6)\n",
    "        current_xmin += equal_intervals\n",
    "    \n",
    "    # Title\n",
    "    if end_year == None:\n",
    "        title = team_name + ' (' + str(start_year) + ')'\n",
    "    else:\n",
    "        title = team_name + ' (' + str(start_year) + '-' + str(end_year) + ')'\n",
    "    title_height = bar_height + 1.5\n",
    "    plt.text(0.5, title_height, title, size=12, weight='bold')\n",
    "    \n",
    "    plt.tight_layout()\n",
    "    plt.show()"
   ]
  },
  {
   "cell_type": "code",
   "execution_count": null,
   "id": "59ca0187",
   "metadata": {},
   "outputs": [],
   "source": [
    "dataset.head(2)"
   ]
  },
  {
   "cell_type": "code",
   "execution_count": 42,
   "id": "3cf9f8f3",
   "metadata": {
    "scrolled": false
   },
   "outputs": [
    {
     "name": "stderr",
     "output_type": "stream",
     "text": [
      "C:\\Users\\Lenovo\\AppData\\Local\\Temp\\ipykernel_7692\\1415669670.py:4: UserWarning: Parsing '18/08/2002' in DD/MM/YYYY format. Provide format or specify infer_datetime_format=True for consistent parsing.\n",
      "  team['Date'] = pd.to_datetime(team['Date'])\n",
      "C:\\Users\\Lenovo\\AppData\\Local\\Temp\\ipykernel_7692\\1415669670.py:4: UserWarning: Parsing '27/08/2002' in DD/MM/YYYY format. Provide format or specify infer_datetime_format=True for consistent parsing.\n",
      "  team['Date'] = pd.to_datetime(team['Date'])\n",
      "C:\\Users\\Lenovo\\AppData\\Local\\Temp\\ipykernel_7692\\1415669670.py:4: UserWarning: Parsing '21/09/2002' in DD/MM/YYYY format. Provide format or specify infer_datetime_format=True for consistent parsing.\n",
      "  team['Date'] = pd.to_datetime(team['Date'])\n",
      "C:\\Users\\Lenovo\\AppData\\Local\\Temp\\ipykernel_7692\\1415669670.py:4: UserWarning: Parsing '26/10/2002' in DD/MM/YYYY format. Provide format or specify infer_datetime_format=True for consistent parsing.\n",
      "  team['Date'] = pd.to_datetime(team['Date'])\n",
      "C:\\Users\\Lenovo\\AppData\\Local\\Temp\\ipykernel_7692\\1415669670.py:4: UserWarning: Parsing '16/11/2002' in DD/MM/YYYY format. Provide format or specify infer_datetime_format=True for consistent parsing.\n",
      "  team['Date'] = pd.to_datetime(team['Date'])\n",
      "C:\\Users\\Lenovo\\AppData\\Local\\Temp\\ipykernel_7692\\1415669670.py:4: UserWarning: Parsing '30/11/2002' in DD/MM/YYYY format. Provide format or specify infer_datetime_format=True for consistent parsing.\n",
      "  team['Date'] = pd.to_datetime(team['Date'])\n",
      "C:\\Users\\Lenovo\\AppData\\Local\\Temp\\ipykernel_7692\\1415669670.py:4: UserWarning: Parsing '21/12/2002' in DD/MM/YYYY format. Provide format or specify infer_datetime_format=True for consistent parsing.\n",
      "  team['Date'] = pd.to_datetime(team['Date'])\n",
      "C:\\Users\\Lenovo\\AppData\\Local\\Temp\\ipykernel_7692\\1415669670.py:4: UserWarning: Parsing '29/12/2002' in DD/MM/YYYY format. Provide format or specify infer_datetime_format=True for consistent parsing.\n",
      "  team['Date'] = pd.to_datetime(team['Date'])\n",
      "C:\\Users\\Lenovo\\AppData\\Local\\Temp\\ipykernel_7692\\1415669670.py:4: UserWarning: Parsing '19/01/2003' in DD/MM/YYYY format. Provide format or specify infer_datetime_format=True for consistent parsing.\n",
      "  team['Date'] = pd.to_datetime(team['Date'])\n",
      "C:\\Users\\Lenovo\\AppData\\Local\\Temp\\ipykernel_7692\\1415669670.py:4: UserWarning: Parsing '23/03/2003' in DD/MM/YYYY format. Provide format or specify infer_datetime_format=True for consistent parsing.\n",
      "  team['Date'] = pd.to_datetime(team['Date'])\n",
      "C:\\Users\\Lenovo\\AppData\\Local\\Temp\\ipykernel_7692\\1415669670.py:4: UserWarning: Parsing '16/04/2003' in DD/MM/YYYY format. Provide format or specify infer_datetime_format=True for consistent parsing.\n",
      "  team['Date'] = pd.to_datetime(team['Date'])\n",
      "C:\\Users\\Lenovo\\AppData\\Local\\Temp\\ipykernel_7692\\1415669670.py:4: SettingWithCopyWarning: \n",
      "A value is trying to be set on a copy of a slice from a DataFrame.\n",
      "Try using .loc[row_indexer,col_indexer] = value instead\n",
      "\n",
      "See the caveats in the documentation: https://pandas.pydata.org/pandas-docs/stable/user_guide/indexing.html#returning-a-view-versus-a-copy\n",
      "  team['Date'] = pd.to_datetime(team['Date'])\n"
     ]
    },
    {
     "data": {
      "image/png": "[encoded data removed]",
      "text/plain": [
       "<Figure size 640x480 with 1 Axes>"
      ]
     },
     "metadata": {},
     "output_type": "display_data"
    }
   ],
   "source": [
    "check_results('Arsenal', 2008)"
   ]
  },
  {
   "cell_type": "code",
   "execution_count": 43,
   "id": "5de61141",
   "metadata": {
    "scrolled": false
   },
   "outputs": [
    {
     "name": "stderr",
     "output_type": "stream",
     "text": [
      "C:\\Users\\Lenovo\\AppData\\Local\\Temp\\ipykernel_7692\\1415669670.py:4: UserWarning: Parsing '24/08/2002' in DD/MM/YYYY format. Provide format or specify infer_datetime_format=True for consistent parsing.\n",
      "  team['Date'] = pd.to_datetime(team['Date'])\n",
      "C:\\Users\\Lenovo\\AppData\\Local\\Temp\\ipykernel_7692\\1415669670.py:4: UserWarning: Parsing '31/08/2002' in DD/MM/YYYY format. Provide format or specify infer_datetime_format=True for consistent parsing.\n",
      "  team['Date'] = pd.to_datetime(team['Date'])\n",
      "C:\\Users\\Lenovo\\AppData\\Local\\Temp\\ipykernel_7692\\1415669670.py:4: UserWarning: Parsing '15/09/2002' in DD/MM/YYYY format. Provide format or specify infer_datetime_format=True for consistent parsing.\n",
      "  team['Date'] = pd.to_datetime(team['Date'])\n",
      "C:\\Users\\Lenovo\\AppData\\Local\\Temp\\ipykernel_7692\\1415669670.py:4: UserWarning: Parsing '28/09/2002' in DD/MM/YYYY format. Provide format or specify infer_datetime_format=True for consistent parsing.\n",
      "  team['Date'] = pd.to_datetime(team['Date'])\n",
      "C:\\Users\\Lenovo\\AppData\\Local\\Temp\\ipykernel_7692\\1415669670.py:4: UserWarning: Parsing '19/10/2002' in DD/MM/YYYY format. Provide format or specify infer_datetime_format=True for consistent parsing.\n",
      "  team['Date'] = pd.to_datetime(team['Date'])\n",
      "C:\\Users\\Lenovo\\AppData\\Local\\Temp\\ipykernel_7692\\1415669670.py:4: UserWarning: Parsing '16/11/2002' in DD/MM/YYYY format. Provide format or specify infer_datetime_format=True for consistent parsing.\n",
      "  team['Date'] = pd.to_datetime(team['Date'])\n",
      "C:\\Users\\Lenovo\\AppData\\Local\\Temp\\ipykernel_7692\\1415669670.py:4: UserWarning: Parsing '30/11/2002' in DD/MM/YYYY format. Provide format or specify infer_datetime_format=True for consistent parsing.\n",
      "  team['Date'] = pd.to_datetime(team['Date'])\n",
      "C:\\Users\\Lenovo\\AppData\\Local\\Temp\\ipykernel_7692\\1415669670.py:4: UserWarning: Parsing '23/12/2002' in DD/MM/YYYY format. Provide format or specify infer_datetime_format=True for consistent parsing.\n",
      "  team['Date'] = pd.to_datetime(team['Date'])\n",
      "C:\\Users\\Lenovo\\AppData\\Local\\Temp\\ipykernel_7692\\1415669670.py:4: UserWarning: Parsing '26/12/2002' in DD/MM/YYYY format. Provide format or specify infer_datetime_format=True for consistent parsing.\n",
      "  team['Date'] = pd.to_datetime(team['Date'])\n",
      "C:\\Users\\Lenovo\\AppData\\Local\\Temp\\ipykernel_7692\\1415669670.py:4: UserWarning: Parsing '29/01/2003' in DD/MM/YYYY format. Provide format or specify infer_datetime_format=True for consistent parsing.\n",
      "  team['Date'] = pd.to_datetime(team['Date'])\n",
      "C:\\Users\\Lenovo\\AppData\\Local\\Temp\\ipykernel_7692\\1415669670.py:4: UserWarning: Parsing '22/02/2003' in DD/MM/YYYY format. Provide format or specify infer_datetime_format=True for consistent parsing.\n",
      "  team['Date'] = pd.to_datetime(team['Date'])\n",
      "C:\\Users\\Lenovo\\AppData\\Local\\Temp\\ipykernel_7692\\1415669670.py:4: UserWarning: Parsing '16/03/2003' in DD/MM/YYYY format. Provide format or specify infer_datetime_format=True for consistent parsing.\n",
      "  team['Date'] = pd.to_datetime(team['Date'])\n",
      "C:\\Users\\Lenovo\\AppData\\Local\\Temp\\ipykernel_7692\\1415669670.py:4: UserWarning: Parsing '21/04/2003' in DD/MM/YYYY format. Provide format or specify infer_datetime_format=True for consistent parsing.\n",
      "  team['Date'] = pd.to_datetime(team['Date'])\n",
      "C:\\Users\\Lenovo\\AppData\\Local\\Temp\\ipykernel_7692\\1415669670.py:4: UserWarning: Parsing '27/04/2003' in DD/MM/YYYY format. Provide format or specify infer_datetime_format=True for consistent parsing.\n",
      "  team['Date'] = pd.to_datetime(team['Date'])\n",
      "C:\\Users\\Lenovo\\AppData\\Local\\Temp\\ipykernel_7692\\1415669670.py:4: SettingWithCopyWarning: \n",
      "A value is trying to be set on a copy of a slice from a DataFrame.\n",
      "Try using .loc[row_indexer,col_indexer] = value instead\n",
      "\n",
      "See the caveats in the documentation: https://pandas.pydata.org/pandas-docs/stable/user_guide/indexing.html#returning-a-view-versus-a-copy\n",
      "  team['Date'] = pd.to_datetime(team['Date'])\n"
     ]
    },
    {
     "data": {
      "image/png": "[encoded data removed]",
      "text/plain": [
       "<Figure size 640x480 with 1 Axes>"
      ]
     },
     "metadata": {},
     "output_type": "display_data"
    }
   ],
   "source": [
    "check_results('Man City', 2016, 2017)"
   ]
  },
  {
   "cell_type": "code",
   "execution_count": null,
   "id": "9e22eef4",
   "metadata": {},
   "outputs": [],
   "source": []
  }
 ],
 "metadata": {
  "kernelspec": {
   "display_name": "Python 3 (ipykernel)",
   "language": "python",
   "name": "python3"
  },
  "language_info": {
   "codemirror_mode": {
    "name": "ipython",
    "version": 3
   },
   "file_extension": ".py",
   "mimetype": "text/x-python",
   "name": "python",
   "nbconvert_exporter": "python",
   "pygments_lexer": "ipython3",
   "version": "3.9.13"
  }
 },
 "nbformat": 4,
 "nbformat_minor": 5
}
